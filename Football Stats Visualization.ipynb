{
  "metadata": {
    "kernelspec": {
      "name": "python",
      "display_name": "Python (Pyodide)",
      "language": "python"
    },
    "language_info": {
      "codemirror_mode": {
        "name": "python",
        "version": 3
      },
      "file_extension": ".py",
      "mimetype": "text/x-python",
      "name": "python",
      "nbconvert_exporter": "python",
      "pygments_lexer": "ipython3",
      "version": "3.8"
    }
  },
  "nbformat_minor": 4,
  "nbformat": 4,
  "cells": [
    {
      "cell_type": "code",
      "source": "import plotly.io as pio\n#pio.renderers.default = 'notebook'\nimport pandas as pd\nimport numpy as np\nimport plotly.express as px\npio.renderers.default = \"plotly_mimetype+notebook_connected\"\n",
      "metadata": {},
      "execution_count": 2,
      "outputs": []
    },
    {
      "cell_type": "markdown",
      "source": "Pull the statistics for each position from pro football reference",
      "metadata": {}
    },
    {
      "cell_type": "code",
      "source": "rec_url = 'https://www.pro-football-reference.com/years/2022/receiving.htm'\nwr_df = pd.read_html(rec_url)[0]\n\nrush_url = 'https://www.pro-football-reference.com/years/2022/rushing.htm'\nrb_df = pd.read_html(rush_url, header=1)[0]\n\nqb_url = 'https://www.pro-football-reference.com/years/2022/passing.htm'\nqb_df = pd.read_html(qb_url)[0]",
      "metadata": {},
      "execution_count": 3,
      "outputs": []
    },
    {
      "cell_type": "code",
      "source": "wr_df.drop(['Ctch%', '1D', 'Lng', 'Fmb', 'Rk'], axis=1, inplace = True) \nwr_df.drop(wr_df[wr_df['Rec'] == 'Rec'].index, inplace = True) #drop columns and rows that we do not want to keep",
      "metadata": {},
      "execution_count": 4,
      "outputs": []
    },
    {
      "cell_type": "code",
      "source": "wr_df[['Age', 'G', 'GS', 'Tgt', 'Rec', 'Yds', 'Y/R', 'TD', 'Y/Tgt', 'R/G', 'Y/G']] = wr_df[['Age', 'G', 'GS', 'Tgt', 'Rec', 'Yds', 'Y/R', 'TD', 'Y/Tgt', 'R/G', 'Y/G']].apply(pd.to_numeric) #change datatypes to numeric\n",
      "metadata": {},
      "execution_count": 5,
      "outputs": []
    },
    {
      "cell_type": "code",
      "source": "wr_df.query('Pos == \"WR\"', inplace=True) #make a dataframe for only recievers\nwr_df.query('Rec >= 10', inplace=True) #only inlcude players with 10 or more catches\nwr_df.query('`R/G` >= 2', inplace=True) #only include players with 2 or more catches per game",
      "metadata": {},
      "execution_count": 6,
      "outputs": []
    },
    {
      "cell_type": "code",
      "source": "wr_df.sort_values(by=['Y/R'], ascending=False, inplace=True)",
      "metadata": {},
      "execution_count": 7,
      "outputs": []
    },
    {
      "cell_type": "code",
      "source": "fig = px.scatter(wr_df, x=\"Y/R\", y=\"R/G\", trendline='ols', hover_data=['Player'], height= 500, width=1333)\nfig.show() #show scatter plot detailing performance of wide receivers",
      "metadata": {},
      "execution_count": 8,
      "outputs": [
        {
          "output_type": "display_data",
          "data": {
            "application/vnd.plotly.v1+json": {
              "config": {
                "plotlyServerURL": "https://plot.ly"
              },
              "data": [
                {
                  "customdata": [
                    [
                      "Rashod Bateman"
                    ],
                    [
                      "Jaylen Waddle"
                    ],
                    [
                      "Terrace Marshall Jr."
                    ],
                    [
                      "Rashid Shaheed"
                    ],
                    [
                      "DeVante Parker"
                    ],
                    [
                      "Gabriel Davis"
                    ],
                    [
                      "A.J. Brown*"
                    ],
                    [
                      "Corey Davis"
                    ],
                    [
                      "DJ Chark"
                    ],
                    [
                      "Marquez Valdes-Scantling"
                    ],
                    [
                      "Darius Slayton"
                    ],
                    [
                      "Terry McLaurin*"
                    ],
                    [
                      "George Pickens"
                    ],
                    [
                      "Van Jefferson"
                    ],
                    [
                      "Davante Adams*+"
                    ],
                    [
                      "Amari Cooper"
                    ],
                    [
                      "Christian Watson"
                    ],
                    [
                      "Jahan Dotson"
                    ],
                    [
                      "Mike Evans"
                    ],
                    [
                      "Alec Pierce"
                    ],
                    [
                      "Chris Olave"
                    ],
                    [
                      "Jerry Jeudy"
                    ],
                    [
                      "Tyreek Hill*+"
                    ],
                    [
                      "Marquise Goodwin"
                    ],
                    [
                      "Mike Williams"
                    ],
                    [
                      "D.J. Moore"
                    ],
                    [
                      "Justin Jefferson*+"
                    ],
                    [
                      "Tee Higgins"
                    ],
                    [
                      "Donovan Peoples-Jones"
                    ],
                    [
                      "Treylon Burks"
                    ],
                    [
                      "Olamide Zaccheaus"
                    ],
                    [
                      "Garrett Wilson"
                    ],
                    [
                      "Christian Kirk"
                    ],
                    [
                      "Stefon Diggs*"
                    ],
                    [
                      "Allen Lazard"
                    ],
                    [
                      "Kalif Raymond"
                    ],
                    [
                      "Tyler Boyd"
                    ],
                    [
                      "Kendall Hinton"
                    ],
                    [
                      "Courtland Sutton"
                    ],
                    [
                      "Nico Collins"
                    ],
                    [
                      "Brandon Aiyuk"
                    ],
                    [
                      "Noah Brown"
                    ],
                    [
                      "CeeDee Lamb*"
                    ],
                    [
                      "DeVonta Smith"
                    ],
                    [
                      "Josh Reynolds"
                    ],
                    [
                      "Julio Jones"
                    ],
                    [
                      "Kendrick Bourne"
                    ],
                    [
                      "Darnell Mooney"
                    ],
                    [
                      "Brandin Cooks"
                    ],
                    [
                      "Randall Cobb"
                    ],
                    [
                      "Tyler Lockett"
                    ],
                    [
                      "Elijah Moore"
                    ],
                    [
                      "Mack Hollins"
                    ],
                    [
                      "JuJu Smith-Schuster"
                    ],
                    [
                      "Ja'Marr Chase*"
                    ],
                    [
                      "Jakobi Meyers"
                    ],
                    [
                      "Drake London"
                    ],
                    [
                      "Jauan Jennings"
                    ],
                    [
                      "Mecole Hardman"
                    ],
                    [
                      "Sterling Shepard"
                    ],
                    [
                      "DeAndre Carter"
                    ],
                    [
                      "D.K. Metcalf"
                    ],
                    [
                      "Marvin Jones"
                    ],
                    [
                      "Keenan Allen"
                    ],
                    [
                      "Chris Moore"
                    ],
                    [
                      "Deebo Samuel"
                    ],
                    [
                      "DeAndre Hopkins"
                    ],
                    [
                      "Amon-Ra St. Brown*"
                    ],
                    [
                      "Devin Duvernay*"
                    ],
                    [
                      "Jarvis Landry"
                    ],
                    [
                      "Michael Gallup"
                    ],
                    [
                      "K.J. Osborn"
                    ],
                    [
                      "Cooper Kupp"
                    ],
                    [
                      "Michael Thomas"
                    ],
                    [
                      "Josh Palmer"
                    ],
                    [
                      "Marquise Brown"
                    ],
                    [
                      "Isaiah Hodgins"
                    ],
                    [
                      "Curtis Samuel"
                    ],
                    [
                      "Diontae Johnson"
                    ],
                    [
                      "Allen Robinson"
                    ],
                    [
                      "Adam Thielen"
                    ],
                    [
                      "Romeo Doubs"
                    ],
                    [
                      "Isaiah McKenzie"
                    ],
                    [
                      "Rondale Moore"
                    ],
                    [
                      "Laviska Shenault Jr."
                    ],
                    [
                      "Richie James"
                    ],
                    [
                      "Zay Jones"
                    ],
                    [
                      "Robert Woods"
                    ],
                    [
                      "Wan'Dale Robinson"
                    ],
                    [
                      "Parris Campbell"
                    ],
                    [
                      "Chris Godwin"
                    ],
                    [
                      "Chase Claypool"
                    ],
                    [
                      "Ben Skowronek"
                    ],
                    [
                      "Demarcus Robinson"
                    ],
                    [
                      "Michael Pittman Jr."
                    ],
                    [
                      "Hunter Renfrow"
                    ],
                    [
                      "Greg Dortch"
                    ],
                    [
                      "Russell Gage"
                    ]
                  ],
                  "hovertemplate": "Y/R=%{x}<br>R/G=%{y}<br>Player=%{customdata[0]}<extra></extra>",
                  "legendgroup": "",
                  "marker": {
                    "color": "#636efa",
                    "symbol": "circle"
                  },
                  "mode": "markers",
                  "name": "",
                  "orientation": "v",
                  "showlegend": false,
                  "type": "scatter",
                  "x": [
                    19,
                    18.1,
                    17.5,
                    17.4,
                    17.4,
                    17.4,
                    17,
                    16.8,
                    16.7,
                    16.4,
                    15.7,
                    15.5,
                    15.4,
                    15.4,
                    15.2,
                    14.9,
                    14.9,
                    14.9,
                    14.6,
                    14.5,
                    14.5,
                    14.5,
                    14.4,
                    14.3,
                    14.2,
                    14.1,
                    14.1,
                    13.9,
                    13.8,
                    13.5,
                    13.3,
                    13.3,
                    13.2,
                    13.2,
                    13.1,
                    13.1,
                    13.1,
                    13,
                    13,
                    13,
                    13,
                    12.9,
                    12.7,
                    12.6,
                    12.6,
                    12.5,
                    12.4,
                    12.3,
                    12.3,
                    12.3,
                    12.3,
                    12.1,
                    12.1,
                    12,
                    12,
                    12,
                    12,
                    11.9,
                    11.9,
                    11.8,
                    11.7,
                    11.6,
                    11.5,
                    11.4,
                    11.4,
                    11.3,
                    11.2,
                    11,
                    11,
                    10.9,
                    10.9,
                    10.8,
                    10.8,
                    10.7,
                    10.7,
                    10.6,
                    10.6,
                    10.3,
                    10.3,
                    10.3,
                    10.2,
                    10.1,
                    10.1,
                    10.1,
                    10.1,
                    10,
                    10,
                    9.9,
                    9.9,
                    9.9,
                    9.8,
                    9.8,
                    9.6,
                    9.5,
                    9.3,
                    9.2,
                    9,
                    8.4
                  ],
                  "xaxis": "x",
                  "y": [
                    2.5,
                    4.4,
                    2,
                    2.3,
                    2.4,
                    3.2,
                    5.2,
                    2.5,
                    2.7,
                    2.5,
                    2.9,
                    4.5,
                    3.1,
                    2.2,
                    5.9,
                    4.6,
                    2.9,
                    2.9,
                    5.1,
                    2.6,
                    4.8,
                    4.5,
                    7,
                    2.1,
                    4.8,
                    3.7,
                    7.5,
                    4.6,
                    3.6,
                    3,
                    2.4,
                    4.9,
                    4.9,
                    6.8,
                    4,
                    2.8,
                    3.6,
                    2,
                    4.3,
                    3.7,
                    4.6,
                    2.7,
                    6.3,
                    5.6,
                    2.7,
                    2.4,
                    2.2,
                    3.3,
                    4.4,
                    2.6,
                    5.3,
                    2.3,
                    3.4,
                    4.9,
                    7.3,
                    4.8,
                    4.2,
                    2.2,
                    3.1,
                    4.3,
                    2.7,
                    5.3,
                    2.9,
                    6.6,
                    3,
                    4.3,
                    7.1,
                    6.6,
                    2.6,
                    2.8,
                    2.8,
                    3.5,
                    8.3,
                    5.3,
                    4.5,
                    5.6,
                    3.7,
                    3.8,
                    5.1,
                    3.3,
                    4.1,
                    3.2,
                    2.8,
                    5.1,
                    2.1,
                    3.4,
                    5.1,
                    3.1,
                    3.8,
                    3.7,
                    6.9,
                    3.1,
                    2.8,
                    2.8,
                    6.2,
                    3.6,
                    3.3,
                    3.9
                  ],
                  "yaxis": "y"
                },
                {
                  "hovertemplate": "<b>OLS trendline</b><br>R/G = -0.103171 * Y/R + 5.26952<br>R<sup>2</sup>=0.027596<br><br>Y/R=%{x}<br>R/G=%{y} <b>(trend)</b><extra></extra>",
                  "legendgroup": "",
                  "marker": {
                    "color": "#636efa",
                    "symbol": "circle"
                  },
                  "mode": "lines",
                  "name": "",
                  "showlegend": false,
                  "type": "scatter",
                  "x": [
                    8.4,
                    9,
                    9.2,
                    9.3,
                    9.5,
                    9.6,
                    9.8,
                    9.8,
                    9.9,
                    9.9,
                    9.9,
                    10,
                    10,
                    10.1,
                    10.1,
                    10.1,
                    10.1,
                    10.2,
                    10.3,
                    10.3,
                    10.3,
                    10.6,
                    10.6,
                    10.7,
                    10.7,
                    10.8,
                    10.8,
                    10.9,
                    10.9,
                    11,
                    11,
                    11.2,
                    11.3,
                    11.4,
                    11.4,
                    11.5,
                    11.6,
                    11.7,
                    11.8,
                    11.9,
                    11.9,
                    12,
                    12,
                    12,
                    12,
                    12.1,
                    12.1,
                    12.3,
                    12.3,
                    12.3,
                    12.3,
                    12.4,
                    12.5,
                    12.6,
                    12.6,
                    12.7,
                    12.9,
                    13,
                    13,
                    13,
                    13,
                    13.1,
                    13.1,
                    13.1,
                    13.2,
                    13.2,
                    13.3,
                    13.3,
                    13.5,
                    13.8,
                    13.9,
                    14.1,
                    14.1,
                    14.2,
                    14.3,
                    14.4,
                    14.5,
                    14.5,
                    14.5,
                    14.6,
                    14.9,
                    14.9,
                    14.9,
                    15.2,
                    15.4,
                    15.4,
                    15.5,
                    15.7,
                    16.4,
                    16.7,
                    16.8,
                    17,
                    17.4,
                    17.4,
                    17.4,
                    17.5,
                    18.1,
                    19
                  ],
                  "xaxis": "x",
                  "y": [
                    4.402877183903835,
                    4.34097440794651,
                    4.320340149294068,
                    4.310023019967846,
                    4.289388761315404,
                    4.279071631989184,
                    4.258437373336742,
                    4.258437373336742,
                    4.24812024401052,
                    4.24812024401052,
                    4.24812024401052,
                    4.237803114684299,
                    4.237803114684299,
                    4.227485985358078,
                    4.227485985358078,
                    4.227485985358078,
                    4.227485985358078,
                    4.217168856031858,
                    4.2068517267056365,
                    4.2068517267056365,
                    4.2068517267056365,
                    4.175900338726974,
                    4.175900338726974,
                    4.1655832094007526,
                    4.1655832094007526,
                    4.155266080074531,
                    4.155266080074531,
                    4.144948950748311,
                    4.144948950748311,
                    4.134631821422089,
                    4.134631821422089,
                    4.113997562769647,
                    4.103680433443426,
                    4.093363304117205,
                    4.093363304117205,
                    4.083046174790985,
                    4.072729045464763,
                    4.062411916138543,
                    4.052094786812321,
                    4.041777657486101,
                    4.041777657486101,
                    4.031460528159879,
                    4.031460528159879,
                    4.031460528159879,
                    4.031460528159879,
                    4.021143398833658,
                    4.021143398833658,
                    4.000509140181216,
                    4.000509140181216,
                    4.000509140181216,
                    4.000509140181216,
                    3.9901920108549955,
                    3.9798748815287746,
                    3.9695577522025536,
                    3.9695577522025536,
                    3.9592406228763326,
                    3.93860636422389,
                    3.9282892348976697,
                    3.9282892348976697,
                    3.9282892348976697,
                    3.9282892348976697,
                    3.9179721055714483,
                    3.9179721055714483,
                    3.9179721055714483,
                    3.9076549762452277,
                    3.9076549762452277,
                    3.8973378469190063,
                    3.8973378469190063,
                    3.8767035882665644,
                    3.8457522002879014,
                    3.8354350709616805,
                    3.8148008123092385,
                    3.8148008123092385,
                    3.8044836829830175,
                    3.7941665536567966,
                    3.783849424330575,
                    3.7735322950043546,
                    3.7735322950043546,
                    3.7735322950043546,
                    3.7632151656781336,
                    3.7322637776994707,
                    3.7322637776994707,
                    3.7322637776994707,
                    3.7013123897208073,
                    3.6806781310683654,
                    3.6806781310683654,
                    3.6703610017421444,
                    3.649726743089703,
                    3.5775068378061556,
                    3.5465554498274927,
                    3.5362383205012717,
                    3.51560406184883,
                    3.474335544543946,
                    3.474335544543946,
                    3.474335544543946,
                    3.4640184152177245,
                    3.4021156392603986,
                    3.3092614753244094
                  ],
                  "yaxis": "y"
                }
              ],
              "layout": {
                "height": 500,
                "legend": {
                  "tracegroupgap": 0
                },
                "margin": {
                  "t": 60
                },
                "template": {
                  "data": {
                    "bar": [
                      {
                        "error_x": {
                          "color": "#2a3f5f"
                        },
                        "error_y": {
                          "color": "#2a3f5f"
                        },
                        "marker": {
                          "line": {
                            "color": "#E5ECF6",
                            "width": 0.5
                          },
                          "pattern": {
                            "fillmode": "overlay",
                            "size": 10,
                            "solidity": 0.2
                          }
                        },
                        "type": "bar"
                      }
                    ],
                    "barpolar": [
                      {
                        "marker": {
                          "line": {
                            "color": "#E5ECF6",
                            "width": 0.5
                          },
                          "pattern": {
                            "fillmode": "overlay",
                            "size": 10,
                            "solidity": 0.2
                          }
                        },
                        "type": "barpolar"
                      }
                    ],
                    "carpet": [
                      {
                        "aaxis": {
                          "endlinecolor": "#2a3f5f",
                          "gridcolor": "white",
                          "linecolor": "white",
                          "minorgridcolor": "white",
                          "startlinecolor": "#2a3f5f"
                        },
                        "baxis": {
                          "endlinecolor": "#2a3f5f",
                          "gridcolor": "white",
                          "linecolor": "white",
                          "minorgridcolor": "white",
                          "startlinecolor": "#2a3f5f"
                        },
                        "type": "carpet"
                      }
                    ],
                    "choropleth": [
                      {
                        "colorbar": {
                          "outlinewidth": 0,
                          "ticks": ""
                        },
                        "type": "choropleth"
                      }
                    ],
                    "contour": [
                      {
                        "colorbar": {
                          "outlinewidth": 0,
                          "ticks": ""
                        },
                        "colorscale": [
                          [
                            0,
                            "#0d0887"
                          ],
                          [
                            0.1111111111111111,
                            "#46039f"
                          ],
                          [
                            0.2222222222222222,
                            "#7201a8"
                          ],
                          [
                            0.3333333333333333,
                            "#9c179e"
                          ],
                          [
                            0.4444444444444444,
                            "#bd3786"
                          ],
                          [
                            0.5555555555555556,
                            "#d8576b"
                          ],
                          [
                            0.6666666666666666,
                            "#ed7953"
                          ],
                          [
                            0.7777777777777778,
                            "#fb9f3a"
                          ],
                          [
                            0.8888888888888888,
                            "#fdca26"
                          ],
                          [
                            1,
                            "#f0f921"
                          ]
                        ],
                        "type": "contour"
                      }
                    ],
                    "contourcarpet": [
                      {
                        "colorbar": {
                          "outlinewidth": 0,
                          "ticks": ""
                        },
                        "type": "contourcarpet"
                      }
                    ],
                    "heatmap": [
                      {
                        "colorbar": {
                          "outlinewidth": 0,
                          "ticks": ""
                        },
                        "colorscale": [
                          [
                            0,
                            "#0d0887"
                          ],
                          [
                            0.1111111111111111,
                            "#46039f"
                          ],
                          [
                            0.2222222222222222,
                            "#7201a8"
                          ],
                          [
                            0.3333333333333333,
                            "#9c179e"
                          ],
                          [
                            0.4444444444444444,
                            "#bd3786"
                          ],
                          [
                            0.5555555555555556,
                            "#d8576b"
                          ],
                          [
                            0.6666666666666666,
                            "#ed7953"
                          ],
                          [
                            0.7777777777777778,
                            "#fb9f3a"
                          ],
                          [
                            0.8888888888888888,
                            "#fdca26"
                          ],
                          [
                            1,
                            "#f0f921"
                          ]
                        ],
                        "type": "heatmap"
                      }
                    ],
                    "heatmapgl": [
                      {
                        "colorbar": {
                          "outlinewidth": 0,
                          "ticks": ""
                        },
                        "colorscale": [
                          [
                            0,
                            "#0d0887"
                          ],
                          [
                            0.1111111111111111,
                            "#46039f"
                          ],
                          [
                            0.2222222222222222,
                            "#7201a8"
                          ],
                          [
                            0.3333333333333333,
                            "#9c179e"
                          ],
                          [
                            0.4444444444444444,
                            "#bd3786"
                          ],
                          [
                            0.5555555555555556,
                            "#d8576b"
                          ],
                          [
                            0.6666666666666666,
                            "#ed7953"
                          ],
                          [
                            0.7777777777777778,
                            "#fb9f3a"
                          ],
                          [
                            0.8888888888888888,
                            "#fdca26"
                          ],
                          [
                            1,
                            "#f0f921"
                          ]
                        ],
                        "type": "heatmapgl"
                      }
                    ],
                    "histogram": [
                      {
                        "marker": {
                          "pattern": {
                            "fillmode": "overlay",
                            "size": 10,
                            "solidity": 0.2
                          }
                        },
                        "type": "histogram"
                      }
                    ],
                    "histogram2d": [
                      {
                        "colorbar": {
                          "outlinewidth": 0,
                          "ticks": ""
                        },
                        "colorscale": [
                          [
                            0,
                            "#0d0887"
                          ],
                          [
                            0.1111111111111111,
                            "#46039f"
                          ],
                          [
                            0.2222222222222222,
                            "#7201a8"
                          ],
                          [
                            0.3333333333333333,
                            "#9c179e"
                          ],
                          [
                            0.4444444444444444,
                            "#bd3786"
                          ],
                          [
                            0.5555555555555556,
                            "#d8576b"
                          ],
                          [
                            0.6666666666666666,
                            "#ed7953"
                          ],
                          [
                            0.7777777777777778,
                            "#fb9f3a"
                          ],
                          [
                            0.8888888888888888,
                            "#fdca26"
                          ],
                          [
                            1,
                            "#f0f921"
                          ]
                        ],
                        "type": "histogram2d"
                      }
                    ],
                    "histogram2dcontour": [
                      {
                        "colorbar": {
                          "outlinewidth": 0,
                          "ticks": ""
                        },
                        "colorscale": [
                          [
                            0,
                            "#0d0887"
                          ],
                          [
                            0.1111111111111111,
                            "#46039f"
                          ],
                          [
                            0.2222222222222222,
                            "#7201a8"
                          ],
                          [
                            0.3333333333333333,
                            "#9c179e"
                          ],
                          [
                            0.4444444444444444,
                            "#bd3786"
                          ],
                          [
                            0.5555555555555556,
                            "#d8576b"
                          ],
                          [
                            0.6666666666666666,
                            "#ed7953"
                          ],
                          [
                            0.7777777777777778,
                            "#fb9f3a"
                          ],
                          [
                            0.8888888888888888,
                            "#fdca26"
                          ],
                          [
                            1,
                            "#f0f921"
                          ]
                        ],
                        "type": "histogram2dcontour"
                      }
                    ],
                    "mesh3d": [
                      {
                        "colorbar": {
                          "outlinewidth": 0,
                          "ticks": ""
                        },
                        "type": "mesh3d"
                      }
                    ],
                    "parcoords": [
                      {
                        "line": {
                          "colorbar": {
                            "outlinewidth": 0,
                            "ticks": ""
                          }
                        },
                        "type": "parcoords"
                      }
                    ],
                    "pie": [
                      {
                        "automargin": true,
                        "type": "pie"
                      }
                    ],
                    "scatter": [
                      {
                        "fillpattern": {
                          "fillmode": "overlay",
                          "size": 10,
                          "solidity": 0.2
                        },
                        "type": "scatter"
                      }
                    ],
                    "scatter3d": [
                      {
                        "line": {
                          "colorbar": {
                            "outlinewidth": 0,
                            "ticks": ""
                          }
                        },
                        "marker": {
                          "colorbar": {
                            "outlinewidth": 0,
                            "ticks": ""
                          }
                        },
                        "type": "scatter3d"
                      }
                    ],
                    "scattercarpet": [
                      {
                        "marker": {
                          "colorbar": {
                            "outlinewidth": 0,
                            "ticks": ""
                          }
                        },
                        "type": "scattercarpet"
                      }
                    ],
                    "scattergeo": [
                      {
                        "marker": {
                          "colorbar": {
                            "outlinewidth": 0,
                            "ticks": ""
                          }
                        },
                        "type": "scattergeo"
                      }
                    ],
                    "scattergl": [
                      {
                        "marker": {
                          "colorbar": {
                            "outlinewidth": 0,
                            "ticks": ""
                          }
                        },
                        "type": "scattergl"
                      }
                    ],
                    "scattermapbox": [
                      {
                        "marker": {
                          "colorbar": {
                            "outlinewidth": 0,
                            "ticks": ""
                          }
                        },
                        "type": "scattermapbox"
                      }
                    ],
                    "scatterpolar": [
                      {
                        "marker": {
                          "colorbar": {
                            "outlinewidth": 0,
                            "ticks": ""
                          }
                        },
                        "type": "scatterpolar"
                      }
                    ],
                    "scatterpolargl": [
                      {
                        "marker": {
                          "colorbar": {
                            "outlinewidth": 0,
                            "ticks": ""
                          }
                        },
                        "type": "scatterpolargl"
                      }
                    ],
                    "scatterternary": [
                      {
                        "marker": {
                          "colorbar": {
                            "outlinewidth": 0,
                            "ticks": ""
                          }
                        },
                        "type": "scatterternary"
                      }
                    ],
                    "surface": [
                      {
                        "colorbar": {
                          "outlinewidth": 0,
                          "ticks": ""
                        },
                        "colorscale": [
                          [
                            0,
                            "#0d0887"
                          ],
                          [
                            0.1111111111111111,
                            "#46039f"
                          ],
                          [
                            0.2222222222222222,
                            "#7201a8"
                          ],
                          [
                            0.3333333333333333,
                            "#9c179e"
                          ],
                          [
                            0.4444444444444444,
                            "#bd3786"
                          ],
                          [
                            0.5555555555555556,
                            "#d8576b"
                          ],
                          [
                            0.6666666666666666,
                            "#ed7953"
                          ],
                          [
                            0.7777777777777778,
                            "#fb9f3a"
                          ],
                          [
                            0.8888888888888888,
                            "#fdca26"
                          ],
                          [
                            1,
                            "#f0f921"
                          ]
                        ],
                        "type": "surface"
                      }
                    ],
                    "table": [
                      {
                        "cells": {
                          "fill": {
                            "color": "#EBF0F8"
                          },
                          "line": {
                            "color": "white"
                          }
                        },
                        "header": {
                          "fill": {
                            "color": "#C8D4E3"
                          },
                          "line": {
                            "color": "white"
                          }
                        },
                        "type": "table"
                      }
                    ]
                  },
                  "layout": {
                    "annotationdefaults": {
                      "arrowcolor": "#2a3f5f",
                      "arrowhead": 0,
                      "arrowwidth": 1
                    },
                    "autotypenumbers": "strict",
                    "coloraxis": {
                      "colorbar": {
                        "outlinewidth": 0,
                        "ticks": ""
                      }
                    },
                    "colorscale": {
                      "diverging": [
                        [
                          0,
                          "#8e0152"
                        ],
                        [
                          0.1,
                          "#c51b7d"
                        ],
                        [
                          0.2,
                          "#de77ae"
                        ],
                        [
                          0.3,
                          "#f1b6da"
                        ],
                        [
                          0.4,
                          "#fde0ef"
                        ],
                        [
                          0.5,
                          "#f7f7f7"
                        ],
                        [
                          0.6,
                          "#e6f5d0"
                        ],
                        [
                          0.7,
                          "#b8e186"
                        ],
                        [
                          0.8,
                          "#7fbc41"
                        ],
                        [
                          0.9,
                          "#4d9221"
                        ],
                        [
                          1,
                          "#276419"
                        ]
                      ],
                      "sequential": [
                        [
                          0,
                          "#0d0887"
                        ],
                        [
                          0.1111111111111111,
                          "#46039f"
                        ],
                        [
                          0.2222222222222222,
                          "#7201a8"
                        ],
                        [
                          0.3333333333333333,
                          "#9c179e"
                        ],
                        [
                          0.4444444444444444,
                          "#bd3786"
                        ],
                        [
                          0.5555555555555556,
                          "#d8576b"
                        ],
                        [
                          0.6666666666666666,
                          "#ed7953"
                        ],
                        [
                          0.7777777777777778,
                          "#fb9f3a"
                        ],
                        [
                          0.8888888888888888,
                          "#fdca26"
                        ],
                        [
                          1,
                          "#f0f921"
                        ]
                      ],
                      "sequentialminus": [
                        [
                          0,
                          "#0d0887"
                        ],
                        [
                          0.1111111111111111,
                          "#46039f"
                        ],
                        [
                          0.2222222222222222,
                          "#7201a8"
                        ],
                        [
                          0.3333333333333333,
                          "#9c179e"
                        ],
                        [
                          0.4444444444444444,
                          "#bd3786"
                        ],
                        [
                          0.5555555555555556,
                          "#d8576b"
                        ],
                        [
                          0.6666666666666666,
                          "#ed7953"
                        ],
                        [
                          0.7777777777777778,
                          "#fb9f3a"
                        ],
                        [
                          0.8888888888888888,
                          "#fdca26"
                        ],
                        [
                          1,
                          "#f0f921"
                        ]
                      ]
                    },
                    "colorway": [
                      "#636efa",
                      "#EF553B",
                      "#00cc96",
                      "#ab63fa",
                      "#FFA15A",
                      "#19d3f3",
                      "#FF6692",
                      "#B6E880",
                      "#FF97FF",
                      "#FECB52"
                    ],
                    "font": {
                      "color": "#2a3f5f"
                    },
                    "geo": {
                      "bgcolor": "white",
                      "lakecolor": "white",
                      "landcolor": "#E5ECF6",
                      "showlakes": true,
                      "showland": true,
                      "subunitcolor": "white"
                    },
                    "hoverlabel": {
                      "align": "left"
                    },
                    "hovermode": "closest",
                    "mapbox": {
                      "style": "light"
                    },
                    "paper_bgcolor": "white",
                    "plot_bgcolor": "#E5ECF6",
                    "polar": {
                      "angularaxis": {
                        "gridcolor": "white",
                        "linecolor": "white",
                        "ticks": ""
                      },
                      "bgcolor": "#E5ECF6",
                      "radialaxis": {
                        "gridcolor": "white",
                        "linecolor": "white",
                        "ticks": ""
                      }
                    },
                    "scene": {
                      "xaxis": {
                        "backgroundcolor": "#E5ECF6",
                        "gridcolor": "white",
                        "gridwidth": 2,
                        "linecolor": "white",
                        "showbackground": true,
                        "ticks": "",
                        "zerolinecolor": "white"
                      },
                      "yaxis": {
                        "backgroundcolor": "#E5ECF6",
                        "gridcolor": "white",
                        "gridwidth": 2,
                        "linecolor": "white",
                        "showbackground": true,
                        "ticks": "",
                        "zerolinecolor": "white"
                      },
                      "zaxis": {
                        "backgroundcolor": "#E5ECF6",
                        "gridcolor": "white",
                        "gridwidth": 2,
                        "linecolor": "white",
                        "showbackground": true,
                        "ticks": "",
                        "zerolinecolor": "white"
                      }
                    },
                    "shapedefaults": {
                      "line": {
                        "color": "#2a3f5f"
                      }
                    },
                    "ternary": {
                      "aaxis": {
                        "gridcolor": "white",
                        "linecolor": "white",
                        "ticks": ""
                      },
                      "baxis": {
                        "gridcolor": "white",
                        "linecolor": "white",
                        "ticks": ""
                      },
                      "bgcolor": "#E5ECF6",
                      "caxis": {
                        "gridcolor": "white",
                        "linecolor": "white",
                        "ticks": ""
                      }
                    },
                    "title": {
                      "x": 0.05
                    },
                    "xaxis": {
                      "automargin": true,
                      "gridcolor": "white",
                      "linecolor": "white",
                      "ticks": "",
                      "title": {
                        "standoff": 15
                      },
                      "zerolinecolor": "white",
                      "zerolinewidth": 2
                    },
                    "yaxis": {
                      "automargin": true,
                      "gridcolor": "white",
                      "linecolor": "white",
                      "ticks": "",
                      "title": {
                        "standoff": 15
                      },
                      "zerolinecolor": "white",
                      "zerolinewidth": 2
                    }
                  }
                },
                "width": 1333,
                "xaxis": {
                  "anchor": "y",
                  "domain": [
                    0,
                    1
                  ],
                  "title": {
                    "text": "Y/R"
                  },
                  "type": "linear",
                  "range": [
                    7.7689753863766455,
                    19.631024613623353
                  ],
                  "autorange": true
                },
                "yaxis": {
                  "anchor": "x",
                  "domain": [
                    0,
                    1
                  ],
                  "title": {
                    "text": "R/G"
                  },
                  "type": "linear",
                  "range": [
                    1.5670616113744076,
                    8.732938388625593
                  ],
                  "autorange": true
                }
              }
            },
            "image/png": "[encoded data removed]"
          },
          "metadata": {}
        }
      ]
    },
    {
      "cell_type": "code",
      "source": "rb_df.drop(rb_df[rb_df['Age'] == 'Age'].index, inplace = True)\nrb_df[['Age', 'G', 'GS', 'Att', 'Yds', 'TD', 'Lng', 'Y/A', 'Y/G', 'Fmb']] = rb_df[['Age', 'G', 'GS', 'Att', 'Yds', 'TD', 'Lng', 'Y/A', 'Y/G', 'Fmb']].apply(pd.to_numeric) #drop rb columns we do not want and change the ones we need to numeric\n",
      "metadata": {},
      "execution_count": 9,
      "outputs": []
    },
    {
      "cell_type": "code",
      "source": "rb_df.query('Pos == \"RB\"', inplace=True) #make a dataframe for only RBs\nrb_df.query('Att >= 50', inplace=True) #only inlcude players with 50 or more rushes\n\nrb_df.sort_values(by=['Y/G'], ascending=False, inplace=True)",
      "metadata": {},
      "execution_count": 10,
      "outputs": []
    },
    {
      "cell_type": "code",
      "source": "fig = px.scatter(rb_df, x=\"Y/G\", y=\"TD\", trendline='ols', hover_data=['Player'], height= 500, width=1333)\nfig.show() #show scatter plot detailing performance of running backs",
      "metadata": {},
      "execution_count": 11,
      "outputs": [
        {
          "output_type": "display_data",
          "data": {
            "application/vnd.plotly.v1+json": {
              "config": {
                "plotlyServerURL": "https://plot.ly"
              },
              "data": [
                {
                  "customdata": [
                    [
                      "Josh Jacobs*+"
                    ],
                    [
                      "Derrick Henry*"
                    ],
                    [
                      "Nick Chubb*"
                    ],
                    [
                      "Saquon Barkley*"
                    ],
                    [
                      "Jonathan Taylor"
                    ],
                    [
                      "Miles Sanders*"
                    ],
                    [
                      "Dameon Pierce"
                    ],
                    [
                      "Kenneth Walker III"
                    ],
                    [
                      "Rashaad Penny"
                    ],
                    [
                      "Dalvin Cook*"
                    ],
                    [
                      "Christian McCaffrey*"
                    ],
                    [
                      "Brian Robinson Jr."
                    ],
                    [
                      "Travis Etienne"
                    ],
                    [
                      "Breece Hall"
                    ],
                    [
                      "Aaron Jones"
                    ],
                    [
                      "J.K. Dobbins"
                    ],
                    [
                      "Tyler Allgeier"
                    ],
                    [
                      "Tony Pollard*"
                    ],
                    [
                      "Jamaal Williams"
                    ],
                    [
                      "Rhamondre Stevenson"
                    ],
                    [
                      "Najee Harris"
                    ],
                    [
                      "James Conner"
                    ],
                    [
                      "Alvin Kamara"
                    ],
                    [
                      "Latavius Murray"
                    ],
                    [
                      "Ezekiel Elliott"
                    ],
                    [
                      "Joe Mixon"
                    ],
                    [
                      "Khalil Herbert"
                    ],
                    [
                      "Raheem Mostert"
                    ],
                    [
                      "D'Onta Foreman"
                    ],
                    [
                      "Jeff Wilson"
                    ],
                    [
                      "Austin Ekeler"
                    ],
                    [
                      "Cordarrelle Patterson"
                    ],
                    [
                      "Cam Akers"
                    ],
                    [
                      "Devin Singletary"
                    ],
                    [
                      "David Montgomery"
                    ],
                    [
                      "Isiah Pacheco"
                    ],
                    [
                      "Gus Edwards"
                    ],
                    [
                      "AJ Dillon"
                    ],
                    [
                      "Zonovan Knight"
                    ],
                    [
                      "Damien Harris"
                    ],
                    [
                      "Leonard Fournette"
                    ],
                    [
                      "Kenyan Drake"
                    ],
                    [
                      "D'Andre Swift"
                    ],
                    [
                      "James Robinson"
                    ],
                    [
                      "Antonio Gibson"
                    ],
                    [
                      "Zack Moss"
                    ],
                    [
                      "Melvin Gordon"
                    ],
                    [
                      "James Cook"
                    ],
                    [
                      "Chuba Hubbard"
                    ],
                    [
                      "Caleb Huntley"
                    ],
                    [
                      "Clyde Edwards-Helaire"
                    ],
                    [
                      "Rachaad White"
                    ],
                    [
                      "Darrell Henderson"
                    ],
                    [
                      "Kareem Hunt"
                    ],
                    [
                      "Michael Carter"
                    ],
                    [
                      "Samaje Perine"
                    ],
                    [
                      "Jaylen Warren"
                    ],
                    [
                      "Mark Ingram"
                    ],
                    [
                      "Joshua Kelley"
                    ],
                    [
                      "Chase Edmonds"
                    ],
                    [
                      "Jerick McKinnon"
                    ],
                    [
                      "Alexander Mattison"
                    ],
                    [
                      "Deon Jackson"
                    ],
                    [
                      "Boston Scott"
                    ],
                    [
                      "Kenneth Gainwell"
                    ],
                    [
                      "Matt Breida"
                    ]
                  ],
                  "hovertemplate": "Y/G=%{x}<br>TD=%{y}<br>Player=%{customdata[0]}<extra></extra>",
                  "legendgroup": "",
                  "marker": {
                    "color": "#636efa",
                    "symbol": "circle"
                  },
                  "mode": "markers",
                  "name": "",
                  "orientation": "v",
                  "showlegend": false,
                  "type": "scatter",
                  "x": [
                    97.2,
                    96.1,
                    89.7,
                    82,
                    78.3,
                    74.6,
                    72.2,
                    70,
                    69.2,
                    69,
                    67,
                    66.4,
                    66.2,
                    66.1,
                    65.9,
                    65,
                    64.7,
                    62.9,
                    62.7,
                    61.2,
                    60.8,
                    60.2,
                    59.8,
                    58.5,
                    58.4,
                    58.1,
                    56.2,
                    55.7,
                    53.8,
                    53.8,
                    53.8,
                    53.5,
                    52.4,
                    51.2,
                    50.1,
                    48.8,
                    48.1,
                    45.3,
                    42.9,
                    42,
                    41.8,
                    40.2,
                    38.7,
                    38.6,
                    36.4,
                    35.1,
                    31.8,
                    31.7,
                    31.1,
                    30.5,
                    30.2,
                    28.3,
                    28.3,
                    27.5,
                    25.1,
                    24.6,
                    23.7,
                    23.3,
                    22.1,
                    18.8,
                    17.1,
                    16.6,
                    14.8,
                    14.5,
                    14.1,
                    12.9
                  ],
                  "xaxis": "x",
                  "y": [
                    12,
                    13,
                    12,
                    10,
                    4,
                    11,
                    4,
                    9,
                    2,
                    8,
                    8,
                    2,
                    5,
                    4,
                    2,
                    2,
                    3,
                    9,
                    17,
                    5,
                    7,
                    7,
                    2,
                    6,
                    12,
                    7,
                    4,
                    3,
                    5,
                    5,
                    13,
                    8,
                    7,
                    5,
                    5,
                    5,
                    3,
                    7,
                    1,
                    3,
                    3,
                    4,
                    5,
                    3,
                    3,
                    1,
                    2,
                    2,
                    2,
                    1,
                    3,
                    1,
                    3,
                    3,
                    3,
                    2,
                    1,
                    1,
                    2,
                    2,
                    1,
                    5,
                    1,
                    3,
                    4,
                    1
                  ],
                  "yaxis": "y"
                },
                {
                  "hovertemplate": "<b>OLS trendline</b><br>TD = 0.1102 * Y/G + -0.522392<br>R<sup>2</sup>=0.408060<br><br>Y/G=%{x}<br>TD=%{y} <b>(trend)</b><extra></extra>",
                  "legendgroup": "",
                  "marker": {
                    "color": "#636efa",
                    "symbol": "circle"
                  },
                  "mode": "lines",
                  "name": "",
                  "showlegend": false,
                  "type": "scatter",
                  "x": [
                    12.9,
                    14.1,
                    14.5,
                    14.8,
                    16.6,
                    17.1,
                    18.8,
                    22.1,
                    23.3,
                    23.7,
                    24.6,
                    25.1,
                    27.5,
                    28.3,
                    28.3,
                    30.2,
                    30.5,
                    31.1,
                    31.7,
                    31.8,
                    35.1,
                    36.4,
                    38.6,
                    38.7,
                    40.2,
                    41.8,
                    42,
                    42.9,
                    45.3,
                    48.1,
                    48.8,
                    50.1,
                    51.2,
                    52.4,
                    53.5,
                    53.8,
                    53.8,
                    53.8,
                    55.7,
                    56.2,
                    58.1,
                    58.4,
                    58.5,
                    59.8,
                    60.2,
                    60.8,
                    61.2,
                    62.7,
                    62.9,
                    64.7,
                    65,
                    65.9,
                    66.1,
                    66.2,
                    66.4,
                    67,
                    69,
                    69.2,
                    70,
                    72.2,
                    74.6,
                    78.3,
                    82,
                    89.7,
                    96.1,
                    97.2
                  ],
                  "xaxis": "x",
                  "y": [
                    0.8991896061713354,
                    1.0314297314540914,
                    1.0755097732150103,
                    1.1085698045356993,
                    1.3069299924598337,
                    1.362030044660982,
                    1.5493702221448864,
                    1.913030566672466,
                    2.0452706919552224,
                    2.0893507337161408,
                    2.188530827678208,
                    2.2436308798793565,
                    2.5081111304448687,
                    2.5962712139667063,
                    2.5962712139667063,
                    2.80565141233107,
                    2.838711443651759,
                    2.904831506293137,
                    2.970951568934515,
                    2.981971579374745,
                    3.3456319239023244,
                    3.48889205962531,
                    3.7313322893103633,
                    3.7423522997505927,
                    3.907652456354038,
                    4.083972623397712,
                    4.106012644278172,
                    4.205192738240239,
                    4.469672988805751,
                    4.778233281132183,
                    4.85537335421379,
                    4.998633489936776,
                    5.119853604779303,
                    5.252093730062058,
                    5.373313844904585,
                    5.406373876225274,
                    5.406373876225274,
                    5.406373876225274,
                    5.615754074589638,
                    5.670854126790787,
                    5.8802343251551505,
                    5.91329435647584,
                    5.924314366916069,
                    6.067574502639054,
                    6.111654544399974,
                    6.177774607041352,
                    6.221854648802271,
                    6.387154805405716,
                    6.409194826286175,
                    6.60755501421031,
                    6.640615045530998,
                    6.739795139493066,
                    6.761835160373524,
                    6.772855170813755,
                    6.794895191694215,
                    6.861015254335592,
                    7.0814154631401856,
                    7.103455484020645,
                    7.191615567542482,
                    7.434055797227535,
                    7.698536047793048,
                    8.106276434081547,
                    8.514016820370045,
                    9.36255762426773,
                    10.06783829244243,
                    10.189058407284957
                  ],
                  "yaxis": "y"
                }
              ],
              "layout": {
                "height": 500,
                "legend": {
                  "tracegroupgap": 0
                },
                "margin": {
                  "t": 60
                },
                "template": {
                  "data": {
                    "bar": [
                      {
                        "error_x": {
                          "color": "#2a3f5f"
                        },
                        "error_y": {
                          "color": "#2a3f5f"
                        },
                        "marker": {
                          "line": {
                            "color": "#E5ECF6",
                            "width": 0.5
                          },
                          "pattern": {
                            "fillmode": "overlay",
                            "size": 10,
                            "solidity": 0.2
                          }
                        },
                        "type": "bar"
                      }
                    ],
                    "barpolar": [
                      {
                        "marker": {
                          "line": {
                            "color": "#E5ECF6",
                            "width": 0.5
                          },
                          "pattern": {
                            "fillmode": "overlay",
                            "size": 10,
                            "solidity": 0.2
                          }
                        },
                        "type": "barpolar"
                      }
                    ],
                    "carpet": [
                      {
                        "aaxis": {
                          "endlinecolor": "#2a3f5f",
                          "gridcolor": "white",
                          "linecolor": "white",
                          "minorgridcolor": "white",
                          "startlinecolor": "#2a3f5f"
                        },
                        "baxis": {
                          "endlinecolor": "#2a3f5f",
                          "gridcolor": "white",
                          "linecolor": "white",
                          "minorgridcolor": "white",
                          "startlinecolor": "#2a3f5f"
                        },
                        "type": "carpet"
                      }
                    ],
                    "choropleth": [
                      {
                        "colorbar": {
                          "outlinewidth": 0,
                          "ticks": ""
                        },
                        "type": "choropleth"
                      }
                    ],
                    "contour": [
                      {
                        "colorbar": {
                          "outlinewidth": 0,
                          "ticks": ""
                        },
                        "colorscale": [
                          [
                            0,
                            "#0d0887"
                          ],
                          [
                            0.1111111111111111,
                            "#46039f"
                          ],
                          [
                            0.2222222222222222,
                            "#7201a8"
                          ],
                          [
                            0.3333333333333333,
                            "#9c179e"
                          ],
                          [
                            0.4444444444444444,
                            "#bd3786"
                          ],
                          [
                            0.5555555555555556,
                            "#d8576b"
                          ],
                          [
                            0.6666666666666666,
                            "#ed7953"
                          ],
                          [
                            0.7777777777777778,
                            "#fb9f3a"
                          ],
                          [
                            0.8888888888888888,
                            "#fdca26"
                          ],
                          [
                            1,
                            "#f0f921"
                          ]
                        ],
                        "type": "contour"
                      }
                    ],
                    "contourcarpet": [
                      {
                        "colorbar": {
                          "outlinewidth": 0,
                          "ticks": ""
                        },
                        "type": "contourcarpet"
                      }
                    ],
                    "heatmap": [
                      {
                        "colorbar": {
                          "outlinewidth": 0,
                          "ticks": ""
                        },
                        "colorscale": [
                          [
                            0,
                            "#0d0887"
                          ],
                          [
                            0.1111111111111111,
                            "#46039f"
                          ],
                          [
                            0.2222222222222222,
                            "#7201a8"
                          ],
                          [
                            0.3333333333333333,
                            "#9c179e"
                          ],
                          [
                            0.4444444444444444,
                            "#bd3786"
                          ],
                          [
                            0.5555555555555556,
                            "#d8576b"
                          ],
                          [
                            0.6666666666666666,
                            "#ed7953"
                          ],
                          [
                            0.7777777777777778,
                            "#fb9f3a"
                          ],
                          [
                            0.8888888888888888,
                            "#fdca26"
                          ],
                          [
                            1,
                            "#f0f921"
                          ]
                        ],
                        "type": "heatmap"
                      }
                    ],
                    "heatmapgl": [
                      {
                        "colorbar": {
                          "outlinewidth": 0,
                          "ticks": ""
                        },
                        "colorscale": [
                          [
                            0,
                            "#0d0887"
                          ],
                          [
                            0.1111111111111111,
                            "#46039f"
                          ],
                          [
                            0.2222222222222222,
                            "#7201a8"
                          ],
                          [
                            0.3333333333333333,
                            "#9c179e"
                          ],
                          [
                            0.4444444444444444,
                            "#bd3786"
                          ],
                          [
                            0.5555555555555556,
                            "#d8576b"
                          ],
                          [
                            0.6666666666666666,
                            "#ed7953"
                          ],
                          [
                            0.7777777777777778,
                            "#fb9f3a"
                          ],
                          [
                            0.8888888888888888,
                            "#fdca26"
                          ],
                          [
                            1,
                            "#f0f921"
                          ]
                        ],
                        "type": "heatmapgl"
                      }
                    ],
                    "histogram": [
                      {
                        "marker": {
                          "pattern": {
                            "fillmode": "overlay",
                            "size": 10,
                            "solidity": 0.2
                          }
                        },
                        "type": "histogram"
                      }
                    ],
                    "histogram2d": [
                      {
                        "colorbar": {
                          "outlinewidth": 0,
                          "ticks": ""
                        },
                        "colorscale": [
                          [
                            0,
                            "#0d0887"
                          ],
                          [
                            0.1111111111111111,
                            "#46039f"
                          ],
                          [
                            0.2222222222222222,
                            "#7201a8"
                          ],
                          [
                            0.3333333333333333,
                            "#9c179e"
                          ],
                          [
                            0.4444444444444444,
                            "#bd3786"
                          ],
                          [
                            0.5555555555555556,
                            "#d8576b"
                          ],
                          [
                            0.6666666666666666,
                            "#ed7953"
                          ],
                          [
                            0.7777777777777778,
                            "#fb9f3a"
                          ],
                          [
                            0.8888888888888888,
                            "#fdca26"
                          ],
                          [
                            1,
                            "#f0f921"
                          ]
                        ],
                        "type": "histogram2d"
                      }
                    ],
                    "histogram2dcontour": [
                      {
                        "colorbar": {
                          "outlinewidth": 0,
                          "ticks": ""
                        },
                        "colorscale": [
                          [
                            0,
                            "#0d0887"
                          ],
                          [
                            0.1111111111111111,
                            "#46039f"
                          ],
                          [
                            0.2222222222222222,
                            "#7201a8"
                          ],
                          [
                            0.3333333333333333,
                            "#9c179e"
                          ],
                          [
                            0.4444444444444444,
                            "#bd3786"
                          ],
                          [
                            0.5555555555555556,
                            "#d8576b"
                          ],
                          [
                            0.6666666666666666,
                            "#ed7953"
                          ],
                          [
                            0.7777777777777778,
                            "#fb9f3a"
                          ],
                          [
                            0.8888888888888888,
                            "#fdca26"
                          ],
                          [
                            1,
                            "#f0f921"
                          ]
                        ],
                        "type": "histogram2dcontour"
                      }
                    ],
                    "mesh3d": [
                      {
                        "colorbar": {
                          "outlinewidth": 0,
                          "ticks": ""
                        },
                        "type": "mesh3d"
                      }
                    ],
                    "parcoords": [
                      {
                        "line": {
                          "colorbar": {
                            "outlinewidth": 0,
                            "ticks": ""
                          }
                        },
                        "type": "parcoords"
                      }
                    ],
                    "pie": [
                      {
                        "automargin": true,
                        "type": "pie"
                      }
                    ],
                    "scatter": [
                      {
                        "fillpattern": {
                          "fillmode": "overlay",
                          "size": 10,
                          "solidity": 0.2
                        },
                        "type": "scatter"
                      }
                    ],
                    "scatter3d": [
                      {
                        "line": {
                          "colorbar": {
                            "outlinewidth": 0,
                            "ticks": ""
                          }
                        },
                        "marker": {
                          "colorbar": {
                            "outlinewidth": 0,
                            "ticks": ""
                          }
                        },
                        "type": "scatter3d"
                      }
                    ],
                    "scattercarpet": [
                      {
                        "marker": {
                          "colorbar": {
                            "outlinewidth": 0,
                            "ticks": ""
                          }
                        },
                        "type": "scattercarpet"
                      }
                    ],
                    "scattergeo": [
                      {
                        "marker": {
                          "colorbar": {
                            "outlinewidth": 0,
                            "ticks": ""
                          }
                        },
                        "type": "scattergeo"
                      }
                    ],
                    "scattergl": [
                      {
                        "marker": {
                          "colorbar": {
                            "outlinewidth": 0,
                            "ticks": ""
                          }
                        },
                        "type": "scattergl"
                      }
                    ],
                    "scattermapbox": [
                      {
                        "marker": {
                          "colorbar": {
                            "outlinewidth": 0,
                            "ticks": ""
                          }
                        },
                        "type": "scattermapbox"
                      }
                    ],
                    "scatterpolar": [
                      {
                        "marker": {
                          "colorbar": {
                            "outlinewidth": 0,
                            "ticks": ""
                          }
                        },
                        "type": "scatterpolar"
                      }
                    ],
                    "scatterpolargl": [
                      {
                        "marker": {
                          "colorbar": {
                            "outlinewidth": 0,
                            "ticks": ""
                          }
                        },
                        "type": "scatterpolargl"
                      }
                    ],
                    "scatterternary": [
                      {
                        "marker": {
                          "colorbar": {
                            "outlinewidth": 0,
                            "ticks": ""
                          }
                        },
                        "type": "scatterternary"
                      }
                    ],
                    "surface": [
                      {
                        "colorbar": {
                          "outlinewidth": 0,
                          "ticks": ""
                        },
                        "colorscale": [
                          [
                            0,
                            "#0d0887"
                          ],
                          [
                            0.1111111111111111,
                            "#46039f"
                          ],
                          [
                            0.2222222222222222,
                            "#7201a8"
                          ],
                          [
                            0.3333333333333333,
                            "#9c179e"
                          ],
                          [
                            0.4444444444444444,
                            "#bd3786"
                          ],
                          [
                            0.5555555555555556,
                            "#d8576b"
                          ],
                          [
                            0.6666666666666666,
                            "#ed7953"
                          ],
                          [
                            0.7777777777777778,
                            "#fb9f3a"
                          ],
                          [
                            0.8888888888888888,
                            "#fdca26"
                          ],
                          [
                            1,
                            "#f0f921"
                          ]
                        ],
                        "type": "surface"
                      }
                    ],
                    "table": [
                      {
                        "cells": {
                          "fill": {
                            "color": "#EBF0F8"
                          },
                          "line": {
                            "color": "white"
                          }
                        },
                        "header": {
                          "fill": {
                            "color": "#C8D4E3"
                          },
                          "line": {
                            "color": "white"
                          }
                        },
                        "type": "table"
                      }
                    ]
                  },
                  "layout": {
                    "annotationdefaults": {
                      "arrowcolor": "#2a3f5f",
                      "arrowhead": 0,
                      "arrowwidth": 1
                    },
                    "autotypenumbers": "strict",
                    "coloraxis": {
                      "colorbar": {
                        "outlinewidth": 0,
                        "ticks": ""
                      }
                    },
                    "colorscale": {
                      "diverging": [
                        [
                          0,
                          "#8e0152"
                        ],
                        [
                          0.1,
                          "#c51b7d"
                        ],
                        [
                          0.2,
                          "#de77ae"
                        ],
                        [
                          0.3,
                          "#f1b6da"
                        ],
                        [
                          0.4,
                          "#fde0ef"
                        ],
                        [
                          0.5,
                          "#f7f7f7"
                        ],
                        [
                          0.6,
                          "#e6f5d0"
                        ],
                        [
                          0.7,
                          "#b8e186"
                        ],
                        [
                          0.8,
                          "#7fbc41"
                        ],
                        [
                          0.9,
                          "#4d9221"
                        ],
                        [
                          1,
                          "#276419"
                        ]
                      ],
                      "sequential": [
                        [
                          0,
                          "#0d0887"
                        ],
                        [
                          0.1111111111111111,
                          "#46039f"
                        ],
                        [
                          0.2222222222222222,
                          "#7201a8"
                        ],
                        [
                          0.3333333333333333,
                          "#9c179e"
                        ],
                        [
                          0.4444444444444444,
                          "#bd3786"
                        ],
                        [
                          0.5555555555555556,
                          "#d8576b"
                        ],
                        [
                          0.6666666666666666,
                          "#ed7953"
                        ],
                        [
                          0.7777777777777778,
                          "#fb9f3a"
                        ],
                        [
                          0.8888888888888888,
                          "#fdca26"
                        ],
                        [
                          1,
                          "#f0f921"
                        ]
                      ],
                      "sequentialminus": [
                        [
                          0,
                          "#0d0887"
                        ],
                        [
                          0.1111111111111111,
                          "#46039f"
                        ],
                        [
                          0.2222222222222222,
                          "#7201a8"
                        ],
                        [
                          0.3333333333333333,
                          "#9c179e"
                        ],
                        [
                          0.4444444444444444,
                          "#bd3786"
                        ],
                        [
                          0.5555555555555556,
                          "#d8576b"
                        ],
                        [
                          0.6666666666666666,
                          "#ed7953"
                        ],
                        [
                          0.7777777777777778,
                          "#fb9f3a"
                        ],
                        [
                          0.8888888888888888,
                          "#fdca26"
                        ],
                        [
                          1,
                          "#f0f921"
                        ]
                      ]
                    },
                    "colorway": [
                      "#636efa",
                      "#EF553B",
                      "#00cc96",
                      "#ab63fa",
                      "#FFA15A",
                      "#19d3f3",
                      "#FF6692",
                      "#B6E880",
                      "#FF97FF",
                      "#FECB52"
                    ],
                    "font": {
                      "color": "#2a3f5f"
                    },
                    "geo": {
                      "bgcolor": "white",
                      "lakecolor": "white",
                      "landcolor": "#E5ECF6",
                      "showlakes": true,
                      "showland": true,
                      "subunitcolor": "white"
                    },
                    "hoverlabel": {
                      "align": "left"
                    },
                    "hovermode": "closest",
                    "mapbox": {
                      "style": "light"
                    },
                    "paper_bgcolor": "white",
                    "plot_bgcolor": "#E5ECF6",
                    "polar": {
                      "angularaxis": {
                        "gridcolor": "white",
                        "linecolor": "white",
                        "ticks": ""
                      },
                      "bgcolor": "#E5ECF6",
                      "radialaxis": {
                        "gridcolor": "white",
                        "linecolor": "white",
                        "ticks": ""
                      }
                    },
                    "scene": {
                      "xaxis": {
                        "backgroundcolor": "#E5ECF6",
                        "gridcolor": "white",
                        "gridwidth": 2,
                        "linecolor": "white",
                        "showbackground": true,
                        "ticks": "",
                        "zerolinecolor": "white"
                      },
                      "yaxis": {
                        "backgroundcolor": "#E5ECF6",
                        "gridcolor": "white",
                        "gridwidth": 2,
                        "linecolor": "white",
                        "showbackground": true,
                        "ticks": "",
                        "zerolinecolor": "white"
                      },
                      "zaxis": {
                        "backgroundcolor": "#E5ECF6",
                        "gridcolor": "white",
                        "gridwidth": 2,
                        "linecolor": "white",
                        "showbackground": true,
                        "ticks": "",
                        "zerolinecolor": "white"
                      }
                    },
                    "shapedefaults": {
                      "line": {
                        "color": "#2a3f5f"
                      }
                    },
                    "ternary": {
                      "aaxis": {
                        "gridcolor": "white",
                        "linecolor": "white",
                        "ticks": ""
                      },
                      "baxis": {
                        "gridcolor": "white",
                        "linecolor": "white",
                        "ticks": ""
                      },
                      "bgcolor": "#E5ECF6",
                      "caxis": {
                        "gridcolor": "white",
                        "linecolor": "white",
                        "ticks": ""
                      }
                    },
                    "title": {
                      "x": 0.05
                    },
                    "xaxis": {
                      "automargin": true,
                      "gridcolor": "white",
                      "linecolor": "white",
                      "ticks": "",
                      "title": {
                        "standoff": 15
                      },
                      "zerolinecolor": "white",
                      "zerolinewidth": 2
                    },
                    "yaxis": {
                      "automargin": true,
                      "gridcolor": "white",
                      "linecolor": "white",
                      "ticks": "",
                      "title": {
                        "standoff": 15
                      },
                      "zerolinecolor": "white",
                      "zerolinewidth": 2
                    }
                  }
                },
                "width": 1333,
                "xaxis": {
                  "anchor": "y",
                  "domain": [
                    0,
                    1
                  ],
                  "title": {
                    "text": "Y/G"
                  },
                  "type": "linear",
                  "range": [
                    7.88156840297653,
                    102.21843159702347
                  ],
                  "autorange": true
                },
                "yaxis": {
                  "anchor": "x",
                  "domain": [
                    0,
                    1
                  ],
                  "title": {
                    "text": "TD"
                  },
                  "type": "linear",
                  "range": [
                    -0.09952606635071093,
                    18.099526066350712
                  ],
                  "autorange": true
                }
              }
            },
            "image/png": "[encoded data removed]"
          },
          "metadata": {}
        }
      ]
    },
    {
      "cell_type": "code",
      "source": "qb_df.drop(columns=['1D', '4QC', 'ANY/A', 'NY/A', 'Sk', 'Lng', 'Rk', 'GWD', 'Yds.1'], inplace=True)\nqb_df.drop(qb_df[qb_df['Age'] == 'Age'].index, inplace = True) #drop qb columns we do not want",
      "metadata": {},
      "execution_count": 12,
      "outputs": []
    },
    {
      "cell_type": "code",
      "source": "qb_df[['Age', 'G', 'GS', 'Att', 'Cmp', 'Yds', 'TD', 'Y/A', 'Y/G']] = qb_df[['Age', 'G', 'GS', 'Att', 'Cmp', 'Yds', 'TD', 'Y/A', 'Y/G']].apply(pd.to_numeric) #change to numeric\nqb_df.query('Pos == \"QB\"', inplace=True) #only include QBs\nqb_df.query('Att >= 100', inplace=True) #min of 100 attempts\nqb_df['TD/G'] = qb_df['TD'] / qb_df['G'] #create a column for TD/G\nqb_df.sort_values(by=['Y/G'], ascending=False, inplace=True)",
      "metadata": {},
      "execution_count": 13,
      "outputs": []
    },
    {
      "cell_type": "code",
      "source": "fig = px.scatter(qb_df, x=\"Y/G\", y=\"TD/G\", trendline='ols', hover_data=['Player'], height= 500, width=1333)\nfig.show() #show scatter plot detailing QB performance",
      "metadata": {},
      "execution_count": 14,
      "outputs": [
        {
          "output_type": "display_data",
          "data": {
            "application/vnd.plotly.v1+json": {
              "config": {
                "plotlyServerURL": "https://plot.ly"
              },
              "data": [
                {
                  "customdata": [
                    [
                      "Patrick Mahomes*+"
                    ],
                    [
                      "Mike White"
                    ],
                    [
                      "Jameis Winston"
                    ],
                    [
                      "Joe Burrow*"
                    ],
                    [
                      "Justin Herbert"
                    ],
                    [
                      "Tom Brady"
                    ],
                    [
                      "Tua Tagovailoa"
                    ],
                    [
                      "Josh Allen*"
                    ],
                    [
                      "Kirk Cousins*"
                    ],
                    [
                      "Jared Goff*"
                    ],
                    [
                      "Matt Ryan"
                    ],
                    [
                      "Geno Smith*"
                    ],
                    [
                      "Jalen Hurts*"
                    ],
                    [
                      "Trevor Lawrence*"
                    ],
                    [
                      "Dak Prescott"
                    ],
                    [
                      "Russell Wilson"
                    ],
                    [
                      "Derek Carr*"
                    ],
                    [
                      "Matthew Stafford"
                    ],
                    [
                      "Jimmy Garoppolo"
                    ],
                    [
                      "Carson Wentz"
                    ],
                    [
                      "Aaron Rodgers"
                    ],
                    [
                      "Kyler Murray"
                    ],
                    [
                      "Mac Jones"
                    ],
                    [
                      "Ryan Tannehill"
                    ],
                    [
                      "Joe Flacco"
                    ],
                    [
                      "Davis Mills"
                    ],
                    [
                      "Taylor Heinicke"
                    ],
                    [
                      "Andy Dalton"
                    ],
                    [
                      "Daniel Jones"
                    ],
                    [
                      "Colt McCoy"
                    ],
                    [
                      "Sam Darnold"
                    ],
                    [
                      "Zach Wilson"
                    ],
                    [
                      "Lamar Jackson"
                    ],
                    [
                      "Kenny Pickett"
                    ],
                    [
                      "Deshaun Watson"
                    ],
                    [
                      "Mitchell Trubisky"
                    ],
                    [
                      "Desmond Ridder"
                    ],
                    [
                      "Marcus Mariota"
                    ],
                    [
                      "Jacoby Brissett"
                    ],
                    [
                      "Brock Purdy"
                    ],
                    [
                      "Justin Fields"
                    ],
                    [
                      "Sam Ehlinger"
                    ],
                    [
                      "P.J. Walker"
                    ],
                    [
                      "Cooper Rush"
                    ],
                    [
                      "Tyler Huntley*"
                    ],
                    [
                      "Skylar Thompson"
                    ]
                  ],
                  "hovertemplate": "Y/G=%{x}<br>TD/G=%{y}<br>Player=%{customdata[0]}<extra></extra>",
                  "legendgroup": "",
                  "marker": {
                    "color": "#636efa",
                    "symbol": "circle"
                  },
                  "mode": "markers",
                  "name": "",
                  "orientation": "v",
                  "showlegend": false,
                  "type": "scatter",
                  "x": [
                    308.8,
                    298,
                    286,
                    279.7,
                    278.8,
                    276.1,
                    272.9,
                    267.7,
                    267.5,
                    261.1,
                    254.8,
                    251.9,
                    246.7,
                    241.9,
                    238.3,
                    234.9,
                    234.8,
                    231.9,
                    221.5,
                    219.4,
                    217.4,
                    215.3,
                    214.1,
                    211.3,
                    210.2,
                    207.9,
                    206.6,
                    205.1,
                    200.3,
                    195,
                    190.5,
                    187.6,
                    186.8,
                    184.9,
                    183.7,
                    178.9,
                    177,
                    170.7,
                    163,
                    152.7,
                    149.5,
                    143.3,
                    121.8,
                    116.8,
                    109.7,
                    76.3
                  ],
                  "xaxis": "x",
                  "y": [
                    2.411764705882353,
                    0.75,
                    1.3333333333333333,
                    2.1875,
                    1.4705882352941178,
                    1.4705882352941178,
                    1.9230769230769231,
                    2.1875,
                    1.7058823529411764,
                    1.7058823529411764,
                    1.1666666666666667,
                    1.7647058823529411,
                    1.4666666666666666,
                    1.4705882352941178,
                    1.9166666666666667,
                    1.0666666666666667,
                    1.6,
                    1.1111111111111112,
                    1.4545454545454546,
                    1.375,
                    1.5294117647058822,
                    1.2727272727272727,
                    1,
                    1.0833333333333333,
                    1,
                    1.1333333333333333,
                    1.3333333333333333,
                    1.2857142857142858,
                    0.9375,
                    0.25,
                    1.1666666666666667,
                    0.6666666666666666,
                    1.4166666666666667,
                    0.5384615384615384,
                    1.1666666666666667,
                    0.5714285714285714,
                    0.5,
                    1.1538461538461537,
                    0.75,
                    1.4444444444444444,
                    1.1333333333333333,
                    0.75,
                    0.5,
                    0.5555555555555556,
                    0.3333333333333333,
                    0.14285714285714285
                  ],
                  "yaxis": "y"
                },
                {
                  "hovertemplate": "<b>OLS trendline</b><br>TD/G = 0.00727613 * Y/G + -0.343081<br>R<sup>2</sup>=0.538328<br><br>Y/G=%{x}<br>TD/G=%{y} <b>(trend)</b><extra></extra>",
                  "legendgroup": "",
                  "marker": {
                    "color": "#636efa",
                    "symbol": "circle"
                  },
                  "mode": "lines",
                  "name": "",
                  "showlegend": false,
                  "type": "scatter",
                  "x": [
                    76.3,
                    109.7,
                    116.8,
                    121.8,
                    143.3,
                    149.5,
                    152.7,
                    163,
                    170.7,
                    177,
                    178.9,
                    183.7,
                    184.9,
                    186.8,
                    187.6,
                    190.5,
                    195,
                    200.3,
                    205.1,
                    206.6,
                    207.9,
                    210.2,
                    211.3,
                    214.1,
                    215.3,
                    217.4,
                    219.4,
                    221.5,
                    231.9,
                    234.8,
                    234.9,
                    238.3,
                    241.9,
                    246.7,
                    251.9,
                    254.8,
                    261.1,
                    267.5,
                    267.7,
                    272.9,
                    276.1,
                    278.8,
                    279.7,
                    286,
                    298,
                    308.8
                  ],
                  "xaxis": "x",
                  "y": [
                    0.21208817601051355,
                    0.45511091558191163,
                    0.506771438065652,
                    0.5431520877020888,
                    0.6995888811387673,
                    0.7447008866879489,
                    0.7679845024552684,
                    0.8429286407063284,
                    0.8989548411464411,
                    0.9447944596883514,
                    0.9586191065501976,
                    0.9935445302011768,
                    1.0022758861139218,
                    1.0161005329757677,
                    1.0219214369175975,
                    1.043022213706731,
                    1.0757647983795242,
                    1.114328286994147,
                    1.1492537106451266,
                    1.1601679055360576,
                    1.1696268744415312,
                    1.186361973274292,
                    1.1943657161943082,
                    1.2147388799907128,
                    1.223470235903458,
                    1.2387501087507613,
                    1.2533023686053357,
                    1.2685822414526395,
                    1.3442539926964279,
                    1.3653547694855614,
                    1.36608238247829,
                    1.3908212242310674,
                    1.4170152919693018,
                    1.4519407156202808,
                    1.4897765912421752,
                    1.5108773680313088,
                    1.5567169865732193,
                    1.6032842181078584,
                    1.6047394440933158,
                    1.6425753197152098,
                    1.6658589354825297,
                    1.6855044862862054,
                    1.6920530032207641,
                    1.7378926217626747,
                    1.825206180890123,
                    1.9037883841048266
                  ],
                  "yaxis": "y"
                }
              ],
              "layout": {
                "height": 500,
                "legend": {
                  "tracegroupgap": 0
                },
                "margin": {
                  "t": 60
                },
                "template": {
                  "data": {
                    "bar": [
                      {
                        "error_x": {
                          "color": "#2a3f5f"
                        },
                        "error_y": {
                          "color": "#2a3f5f"
                        },
                        "marker": {
                          "line": {
                            "color": "#E5ECF6",
                            "width": 0.5
                          },
                          "pattern": {
                            "fillmode": "overlay",
                            "size": 10,
                            "solidity": 0.2
                          }
                        },
                        "type": "bar"
                      }
                    ],
                    "barpolar": [
                      {
                        "marker": {
                          "line": {
                            "color": "#E5ECF6",
                            "width": 0.5
                          },
                          "pattern": {
                            "fillmode": "overlay",
                            "size": 10,
                            "solidity": 0.2
                          }
                        },
                        "type": "barpolar"
                      }
                    ],
                    "carpet": [
                      {
                        "aaxis": {
                          "endlinecolor": "#2a3f5f",
                          "gridcolor": "white",
                          "linecolor": "white",
                          "minorgridcolor": "white",
                          "startlinecolor": "#2a3f5f"
                        },
                        "baxis": {
                          "endlinecolor": "#2a3f5f",
                          "gridcolor": "white",
                          "linecolor": "white",
                          "minorgridcolor": "white",
                          "startlinecolor": "#2a3f5f"
                        },
                        "type": "carpet"
                      }
                    ],
                    "choropleth": [
                      {
                        "colorbar": {
                          "outlinewidth": 0,
                          "ticks": ""
                        },
                        "type": "choropleth"
                      }
                    ],
                    "contour": [
                      {
                        "colorbar": {
                          "outlinewidth": 0,
                          "ticks": ""
                        },
                        "colorscale": [
                          [
                            0,
                            "#0d0887"
                          ],
                          [
                            0.1111111111111111,
                            "#46039f"
                          ],
                          [
                            0.2222222222222222,
                            "#7201a8"
                          ],
                          [
                            0.3333333333333333,
                            "#9c179e"
                          ],
                          [
                            0.4444444444444444,
                            "#bd3786"
                          ],
                          [
                            0.5555555555555556,
                            "#d8576b"
                          ],
                          [
                            0.6666666666666666,
                            "#ed7953"
                          ],
                          [
                            0.7777777777777778,
                            "#fb9f3a"
                          ],
                          [
                            0.8888888888888888,
                            "#fdca26"
                          ],
                          [
                            1,
                            "#f0f921"
                          ]
                        ],
                        "type": "contour"
                      }
                    ],
                    "contourcarpet": [
                      {
                        "colorbar": {
                          "outlinewidth": 0,
                          "ticks": ""
                        },
                        "type": "contourcarpet"
                      }
                    ],
                    "heatmap": [
                      {
                        "colorbar": {
                          "outlinewidth": 0,
                          "ticks": ""
                        },
                        "colorscale": [
                          [
                            0,
                            "#0d0887"
                          ],
                          [
                            0.1111111111111111,
                            "#46039f"
                          ],
                          [
                            0.2222222222222222,
                            "#7201a8"
                          ],
                          [
                            0.3333333333333333,
                            "#9c179e"
                          ],
                          [
                            0.4444444444444444,
                            "#bd3786"
                          ],
                          [
                            0.5555555555555556,
                            "#d8576b"
                          ],
                          [
                            0.6666666666666666,
                            "#ed7953"
                          ],
                          [
                            0.7777777777777778,
                            "#fb9f3a"
                          ],
                          [
                            0.8888888888888888,
                            "#fdca26"
                          ],
                          [
                            1,
                            "#f0f921"
                          ]
                        ],
                        "type": "heatmap"
                      }
                    ],
                    "heatmapgl": [
                      {
                        "colorbar": {
                          "outlinewidth": 0,
                          "ticks": ""
                        },
                        "colorscale": [
                          [
                            0,
                            "#0d0887"
                          ],
                          [
                            0.1111111111111111,
                            "#46039f"
                          ],
                          [
                            0.2222222222222222,
                            "#7201a8"
                          ],
                          [
                            0.3333333333333333,
                            "#9c179e"
                          ],
                          [
                            0.4444444444444444,
                            "#bd3786"
                          ],
                          [
                            0.5555555555555556,
                            "#d8576b"
                          ],
                          [
                            0.6666666666666666,
                            "#ed7953"
                          ],
                          [
                            0.7777777777777778,
                            "#fb9f3a"
                          ],
                          [
                            0.8888888888888888,
                            "#fdca26"
                          ],
                          [
                            1,
                            "#f0f921"
                          ]
                        ],
                        "type": "heatmapgl"
                      }
                    ],
                    "histogram": [
                      {
                        "marker": {
                          "pattern": {
                            "fillmode": "overlay",
                            "size": 10,
                            "solidity": 0.2
                          }
                        },
                        "type": "histogram"
                      }
                    ],
                    "histogram2d": [
                      {
                        "colorbar": {
                          "outlinewidth": 0,
                          "ticks": ""
                        },
                        "colorscale": [
                          [
                            0,
                            "#0d0887"
                          ],
                          [
                            0.1111111111111111,
                            "#46039f"
                          ],
                          [
                            0.2222222222222222,
                            "#7201a8"
                          ],
                          [
                            0.3333333333333333,
                            "#9c179e"
                          ],
                          [
                            0.4444444444444444,
                            "#bd3786"
                          ],
                          [
                            0.5555555555555556,
                            "#d8576b"
                          ],
                          [
                            0.6666666666666666,
                            "#ed7953"
                          ],
                          [
                            0.7777777777777778,
                            "#fb9f3a"
                          ],
                          [
                            0.8888888888888888,
                            "#fdca26"
                          ],
                          [
                            1,
                            "#f0f921"
                          ]
                        ],
                        "type": "histogram2d"
                      }
                    ],
                    "histogram2dcontour": [
                      {
                        "colorbar": {
                          "outlinewidth": 0,
                          "ticks": ""
                        },
                        "colorscale": [
                          [
                            0,
                            "#0d0887"
                          ],
                          [
                            0.1111111111111111,
                            "#46039f"
                          ],
                          [
                            0.2222222222222222,
                            "#7201a8"
                          ],
                          [
                            0.3333333333333333,
                            "#9c179e"
                          ],
                          [
                            0.4444444444444444,
                            "#bd3786"
                          ],
                          [
                            0.5555555555555556,
                            "#d8576b"
                          ],
                          [
                            0.6666666666666666,
                            "#ed7953"
                          ],
                          [
                            0.7777777777777778,
                            "#fb9f3a"
                          ],
                          [
                            0.8888888888888888,
                            "#fdca26"
                          ],
                          [
                            1,
                            "#f0f921"
                          ]
                        ],
                        "type": "histogram2dcontour"
                      }
                    ],
                    "mesh3d": [
                      {
                        "colorbar": {
                          "outlinewidth": 0,
                          "ticks": ""
                        },
                        "type": "mesh3d"
                      }
                    ],
                    "parcoords": [
                      {
                        "line": {
                          "colorbar": {
                            "outlinewidth": 0,
                            "ticks": ""
                          }
                        },
                        "type": "parcoords"
                      }
                    ],
                    "pie": [
                      {
                        "automargin": true,
                        "type": "pie"
                      }
                    ],
                    "scatter": [
                      {
                        "fillpattern": {
                          "fillmode": "overlay",
                          "size": 10,
                          "solidity": 0.2
                        },
                        "type": "scatter"
                      }
                    ],
                    "scatter3d": [
                      {
                        "line": {
                          "colorbar": {
                            "outlinewidth": 0,
                            "ticks": ""
                          }
                        },
                        "marker": {
                          "colorbar": {
                            "outlinewidth": 0,
                            "ticks": ""
                          }
                        },
                        "type": "scatter3d"
                      }
                    ],
                    "scattercarpet": [
                      {
                        "marker": {
                          "colorbar": {
                            "outlinewidth": 0,
                            "ticks": ""
                          }
                        },
                        "type": "scattercarpet"
                      }
                    ],
                    "scattergeo": [
                      {
                        "marker": {
                          "colorbar": {
                            "outlinewidth": 0,
                            "ticks": ""
                          }
                        },
                        "type": "scattergeo"
                      }
                    ],
                    "scattergl": [
                      {
                        "marker": {
                          "colorbar": {
                            "outlinewidth": 0,
                            "ticks": ""
                          }
                        },
                        "type": "scattergl"
                      }
                    ],
                    "scattermapbox": [
                      {
                        "marker": {
                          "colorbar": {
                            "outlinewidth": 0,
                            "ticks": ""
                          }
                        },
                        "type": "scattermapbox"
                      }
                    ],
                    "scatterpolar": [
                      {
                        "marker": {
                          "colorbar": {
                            "outlinewidth": 0,
                            "ticks": ""
                          }
                        },
                        "type": "scatterpolar"
                      }
                    ],
                    "scatterpolargl": [
                      {
                        "marker": {
                          "colorbar": {
                            "outlinewidth": 0,
                            "ticks": ""
                          }
                        },
                        "type": "scatterpolargl"
                      }
                    ],
                    "scatterternary": [
                      {
                        "marker": {
                          "colorbar": {
                            "outlinewidth": 0,
                            "ticks": ""
                          }
                        },
                        "type": "scatterternary"
                      }
                    ],
                    "surface": [
                      {
                        "colorbar": {
                          "outlinewidth": 0,
                          "ticks": ""
                        },
                        "colorscale": [
                          [
                            0,
                            "#0d0887"
                          ],
                          [
                            0.1111111111111111,
                            "#46039f"
                          ],
                          [
                            0.2222222222222222,
                            "#7201a8"
                          ],
                          [
                            0.3333333333333333,
                            "#9c179e"
                          ],
                          [
                            0.4444444444444444,
                            "#bd3786"
                          ],
                          [
                            0.5555555555555556,
                            "#d8576b"
                          ],
                          [
                            0.6666666666666666,
                            "#ed7953"
                          ],
                          [
                            0.7777777777777778,
                            "#fb9f3a"
                          ],
                          [
                            0.8888888888888888,
                            "#fdca26"
                          ],
                          [
                            1,
                            "#f0f921"
                          ]
                        ],
                        "type": "surface"
                      }
                    ],
                    "table": [
                      {
                        "cells": {
                          "fill": {
                            "color": "#EBF0F8"
                          },
                          "line": {
                            "color": "white"
                          }
                        },
                        "header": {
                          "fill": {
                            "color": "#C8D4E3"
                          },
                          "line": {
                            "color": "white"
                          }
                        },
                        "type": "table"
                      }
                    ]
                  },
                  "layout": {
                    "annotationdefaults": {
                      "arrowcolor": "#2a3f5f",
                      "arrowhead": 0,
                      "arrowwidth": 1
                    },
                    "autotypenumbers": "strict",
                    "coloraxis": {
                      "colorbar": {
                        "outlinewidth": 0,
                        "ticks": ""
                      }
                    },
                    "colorscale": {
                      "diverging": [
                        [
                          0,
                          "#8e0152"
                        ],
                        [
                          0.1,
                          "#c51b7d"
                        ],
                        [
                          0.2,
                          "#de77ae"
                        ],
                        [
                          0.3,
                          "#f1b6da"
                        ],
                        [
                          0.4,
                          "#fde0ef"
                        ],
                        [
                          0.5,
                          "#f7f7f7"
                        ],
                        [
                          0.6,
                          "#e6f5d0"
                        ],
                        [
                          0.7,
                          "#b8e186"
                        ],
                        [
                          0.8,
                          "#7fbc41"
                        ],
                        [
                          0.9,
                          "#4d9221"
                        ],
                        [
                          1,
                          "#276419"
                        ]
                      ],
                      "sequential": [
                        [
                          0,
                          "#0d0887"
                        ],
                        [
                          0.1111111111111111,
                          "#46039f"
                        ],
                        [
                          0.2222222222222222,
                          "#7201a8"
                        ],
                        [
                          0.3333333333333333,
                          "#9c179e"
                        ],
                        [
                          0.4444444444444444,
                          "#bd3786"
                        ],
                        [
                          0.5555555555555556,
                          "#d8576b"
                        ],
                        [
                          0.6666666666666666,
                          "#ed7953"
                        ],
                        [
                          0.7777777777777778,
                          "#fb9f3a"
                        ],
                        [
                          0.8888888888888888,
                          "#fdca26"
                        ],
                        [
                          1,
                          "#f0f921"
                        ]
                      ],
                      "sequentialminus": [
                        [
                          0,
                          "#0d0887"
                        ],
                        [
                          0.1111111111111111,
                          "#46039f"
                        ],
                        [
                          0.2222222222222222,
                          "#7201a8"
                        ],
                        [
                          0.3333333333333333,
                          "#9c179e"
                        ],
                        [
                          0.4444444444444444,
                          "#bd3786"
                        ],
                        [
                          0.5555555555555556,
                          "#d8576b"
                        ],
                        [
                          0.6666666666666666,
                          "#ed7953"
                        ],
                        [
                          0.7777777777777778,
                          "#fb9f3a"
                        ],
                        [
                          0.8888888888888888,
                          "#fdca26"
                        ],
                        [
                          1,
                          "#f0f921"
                        ]
                      ]
                    },
                    "colorway": [
                      "#636efa",
                      "#EF553B",
                      "#00cc96",
                      "#ab63fa",
                      "#FFA15A",
                      "#19d3f3",
                      "#FF6692",
                      "#B6E880",
                      "#FF97FF",
                      "#FECB52"
                    ],
                    "font": {
                      "color": "#2a3f5f"
                    },
                    "geo": {
                      "bgcolor": "white",
                      "lakecolor": "white",
                      "landcolor": "#E5ECF6",
                      "showlakes": true,
                      "showland": true,
                      "subunitcolor": "white"
                    },
                    "hoverlabel": {
                      "align": "left"
                    },
                    "hovermode": "closest",
                    "mapbox": {
                      "style": "light"
                    },
                    "paper_bgcolor": "white",
                    "plot_bgcolor": "#E5ECF6",
                    "polar": {
                      "angularaxis": {
                        "gridcolor": "white",
                        "linecolor": "white",
                        "ticks": ""
                      },
                      "bgcolor": "#E5ECF6",
                      "radialaxis": {
                        "gridcolor": "white",
                        "linecolor": "white",
                        "ticks": ""
                      }
                    },
                    "scene": {
                      "xaxis": {
                        "backgroundcolor": "#E5ECF6",
                        "gridcolor": "white",
                        "gridwidth": 2,
                        "linecolor": "white",
                        "showbackground": true,
                        "ticks": "",
                        "zerolinecolor": "white"
                      },
                      "yaxis": {
                        "backgroundcolor": "#E5ECF6",
                        "gridcolor": "white",
                        "gridwidth": 2,
                        "linecolor": "white",
                        "showbackground": true,
                        "ticks": "",
                        "zerolinecolor": "white"
                      },
                      "zaxis": {
                        "backgroundcolor": "#E5ECF6",
                        "gridcolor": "white",
                        "gridwidth": 2,
                        "linecolor": "white",
                        "showbackground": true,
                        "ticks": "",
                        "zerolinecolor": "white"
                      }
                    },
                    "shapedefaults": {
                      "line": {
                        "color": "#2a3f5f"
                      }
                    },
                    "ternary": {
                      "aaxis": {
                        "gridcolor": "white",
                        "linecolor": "white",
                        "ticks": ""
                      },
                      "baxis": {
                        "gridcolor": "white",
                        "linecolor": "white",
                        "ticks": ""
                      },
                      "bgcolor": "#E5ECF6",
                      "caxis": {
                        "gridcolor": "white",
                        "linecolor": "white",
                        "ticks": ""
                      }
                    },
                    "title": {
                      "x": 0.05
                    },
                    "xaxis": {
                      "automargin": true,
                      "gridcolor": "white",
                      "linecolor": "white",
                      "ticks": "",
                      "title": {
                        "standoff": 15
                      },
                      "zerolinecolor": "white",
                      "zerolinewidth": 2
                    },
                    "yaxis": {
                      "automargin": true,
                      "gridcolor": "white",
                      "linecolor": "white",
                      "ticks": "",
                      "title": {
                        "standoff": 15
                      },
                      "zerolinecolor": "white",
                      "zerolinewidth": 2
                    }
                  }
                },
                "width": 1333,
                "xaxis": {
                  "anchor": "y",
                  "domain": [
                    0,
                    1
                  ],
                  "title": {
                    "text": "Y/G"
                  },
                  "type": "linear",
                  "range": [
                    62.45912993703491,
                    322.6408700629651
                  ],
                  "autorange": true
                },
                "yaxis": {
                  "anchor": "x",
                  "domain": [
                    0,
                    1
                  ],
                  "title": {
                    "text": "TD/G"
                  },
                  "type": "linear",
                  "range": [
                    -0.013063045123262562,
                    2.5676848938627583
                  ],
                  "autorange": true
                }
              }
            },
            "image/png": "[encoded data removed]"
          },
          "metadata": {}
        }
      ]
    },
    {
      "cell_type": "code",
      "source": "",
      "metadata": {},
      "execution_count": null,
      "outputs": []
    }
  ]
}